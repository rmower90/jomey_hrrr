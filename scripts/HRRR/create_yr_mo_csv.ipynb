{
 "cells": [
  {
   "cell_type": "code",
   "execution_count": 1,
   "id": "00f395ff-3769-48d9-a7ee-04bf11bda24c",
   "metadata": {},
   "outputs": [],
   "source": [
    "import pandas as pd"
   ]
  },
  {
   "cell_type": "code",
   "execution_count": 3,
   "id": "e9330cc2-c9fb-42ad-8138-9f6b291835a3",
   "metadata": {},
   "outputs": [],
   "source": [
    "wy = 2025\n",
    "\n",
    "pd.DataFrame([\n",
    "    [wy-1,'10',f'/glade/derecho/scratch/rossamower/snow/data/met/hrrr/raw/{wy}'],\n",
    "     [wy-1,'11',f'/glade/derecho/scratch/rossamower/snow/data/met/hrrr/raw/{wy}'],\n",
    "     [wy-1,'12',f'/glade/derecho/scratch/rossamower/snow/data/met/hrrr/raw/{wy}'],\n",
    "     [wy,'01',f'/glade/derecho/scratch/rossamower/snow/data/met/hrrr/raw/{wy}'],\n",
    "     [wy,'02',f'/glade/derecho/scratch/rossamower/snow/data/met/hrrr/raw/{wy}'],\n",
    "     [wy,'03',f'/glade/derecho/scratch/rossamower/snow/data/met/hrrr/raw/{wy}'],\n",
    "     [wy,'04',f'/glade/derecho/scratch/rossamower/snow/data/met/hrrr/raw/{wy}'],\n",
    "     [wy,'05',f'/glade/derecho/scratch/rossamower/snow/data/met/hrrr/raw/{wy}'],\n",
    "     [wy,'06',f'/glade/derecho/scratch/rossamower/snow/data/met/hrrr/raw/{wy}'],\n",
    "     [wy,'07',f'/glade/derecho/scratch/rossamower/snow/data/met/hrrr/raw/{wy}'],\n",
    "     [wy,'08',f'/glade/derecho/scratch/rossamower/snow/data/met/hrrr/raw/{wy}'],\n",
    "     [wy,'09',f'/glade/derecho/scratch/rossamower/snow/data/met/hrrr/raw/{wy}'],\n",
    "],columns = ['year','month','directory']).to_csv('year_month_test.csv',index = False)"
   ]
  },
  {
   "cell_type": "code",
   "execution_count": null,
   "id": "99b778bd-9481-4561-8d47-ea4c98b381d2",
   "metadata": {},
   "outputs": [],
   "source": []
  },
  {
   "cell_type": "code",
   "execution_count": 9,
   "id": "9de80654-2925-47f9-a074-94ae895eebe2",
   "metadata": {},
   "outputs": [],
   "source": [
    "! ls /glade/derecho/scratch/rossamower/snow/data/met/hrrr/raw/"
   ]
  }
 ],
 "metadata": {
  "kernelspec": {
   "display_name": "Python [conda env:proj_2024]",
   "language": "python",
   "name": "conda-env-proj_2024-py"
  },
  "language_info": {
   "codemirror_mode": {
    "name": "ipython",
    "version": 3
   },
   "file_extension": ".py",
   "mimetype": "text/x-python",
   "name": "python",
   "nbconvert_exporter": "python",
   "pygments_lexer": "ipython3",
   "version": "3.9.20"
  }
 },
 "nbformat": 4,
 "nbformat_minor": 5
}
